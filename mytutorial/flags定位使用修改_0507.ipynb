{
 "cells": [
  {
   "cell_type": "markdown",
   "metadata": {},
   "source": [
    "# tf.app.flags 和 tf.flags，查找文件位置，命令行修改flag参数"
   ]
  },
  {
   "cell_type": "markdown",
   "metadata": {},
   "source": [
    "# 1、tf.app.flags.FLAGS使用"
   ]
  },
  {
   "cell_type": "markdown",
   "metadata": {},
   "source": [
    "定义命令行参数，如果没有输入按默认参数"
   ]
  },
  {
   "cell_type": "markdown",
   "metadata": {},
   "source": [
    "https://blog.csdn.net/zhongzhongzhen/article/details/79303858?utm_source=blogxgwz7 岁月如歌\n",
    "\n"
   ]
  },
  {
   "cell_type": "code",
   "execution_count": 1,
   "metadata": {},
   "outputs": [],
   "source": [
    "# -*- coding: utf-8 -*-\n",
    "import tensorflow as tf\n",
    "FLAGS = tf.app.flags.FLAGS"
   ]
  },
  {
   "cell_type": "code",
   "execution_count": 2,
   "metadata": {},
   "outputs": [],
   "source": [
    "tf.app.flags.DEFINE_float(\n",
    "    'flag_float',0.01,'input a float'\n",
    ")\n",
    "tf.app.flags.DEFINE_integer('flag_int',400,'input a int')\n",
    "tf.app.flags.DEFINE_string('flag_string',\"wang\",\"input a string\")\n",
    "# 这句添加 f，kernel 的语句 只在notebook 上运行时添加，shell终端执行不需要 \n",
    "tf.app.flags.DEFINE_string('f', '', 'kernel')"
   ]
  },
  {
   "cell_type": "code",
   "execution_count": 3,
   "metadata": {},
   "outputs": [
    {
     "name": "stdout",
     "output_type": "stream",
     "text": [
      "\n",
      "/home/eric/anaconda3/envs/tf-gpu/lib/python3.6/site-packages/ipykernel_launcher.py:\n",
      "  --f: kernel\n",
      "    (default: '')\n",
      "  --flag_float: input a float\n",
      "    (default: '0.01')\n",
      "    (a number)\n",
      "  --flag_int: input a int\n",
      "    (default: '400')\n",
      "    (an integer)\n",
      "  --flag_string: input a string\n",
      "    (default: 'wang')\n",
      "\n",
      "absl.flags:\n",
      "  --flagfile: Insert flag definitions from the given file into the command line.\n",
      "    (default: '')\n",
      "  --undefok: comma-separated list of flag names that it is okay to specify on\n",
      "    the command line even if the program does not define a flag with that name.\n",
      "    IMPORTANT: flags in this list that have arguments MUST use the --flag=value\n",
      "    format.\n",
      "    (default: '')\n"
     ]
    }
   ],
   "source": [
    "print(FLAGS)"
   ]
  },
  {
   "cell_type": "code",
   "execution_count": 4,
   "metadata": {},
   "outputs": [
    {
     "name": "stdout",
     "output_type": "stream",
     "text": [
      "0.01\n"
     ]
    }
   ],
   "source": [
    "print(FLAGS.flag_float)"
   ]
  },
  {
   "cell_type": "code",
   "execution_count": null,
   "metadata": {},
   "outputs": [],
   "source": [
    "tf.app.run则是处理解析，执行main函数"
   ]
  },
  {
   "cell_type": "markdown",
   "metadata": {},
   "source": [
    "https://blog.csdn.net/weiqi_fan/article/details/72722510\n",
    "\n",
    "\n",
    "执行main函数之前首先进行flags的解析，也就是说TensorFlow通过设置flags来传递tf.app.run()所需要的参数，\n",
    "\n",
    "我们可以直接在程序运行前初始化flags，也可以在运行程序的时候设置命令行参数来达到传参的目的。"
   ]
  },
  {
   "cell_type": "markdown",
   "metadata": {},
   "source": [
    "# tf.flags 和 tf.app.flags 有区别"
   ]
  },
  {
   "cell_type": "markdown",
   "metadata": {},
   "source": [
    "https://www.jianshu.com/p/5171a4c44e5c?utm_source=oschina-app\n",
    "\n",
    "感觉用 tf.flags会好一些"
   ]
  },
  {
   "cell_type": "code",
   "execution_count": null,
   "metadata": {},
   "outputs": [],
   "source": []
  },
  {
   "cell_type": "code",
   "execution_count": null,
   "metadata": {},
   "outputs": [],
   "source": []
  },
  {
   "cell_type": "markdown",
   "metadata": {},
   "source": [
    "# 通过notebook查看路径，弄清楚 tf.flag区别，弄清楚怎么用"
   ]
  },
  {
   "cell_type": "code",
   "execution_count": 11,
   "metadata": {
    "scrolled": true
   },
   "outputs": [
    {
     "name": "stdout",
     "output_type": "stream",
     "text": [
      "tf version:  1.7.0\n",
      "tf file:  /home/eric/anaconda3/envs/tf-gpu/lib/python3.6/site-packages/tensorflow/__init__.py\n",
      "\n",
      "tf.app package:  tensorflow.python.platform\n",
      "tf.app file:  /home/eric/anaconda3/envs/tf-gpu/lib/python3.6/site-packages/tensorflow/python/platform/app.py\n",
      "\n",
      "tf.flags package:  tensorflow.python.platform\n",
      "tf.flags file:  /home/eric/anaconda3/envs/tf-gpu/lib/python3.6/site-packages/tensorflow/python/platform/flags.py\n",
      "\n",
      "absl.flags package:  absl.flags\n",
      "absl.flags file:  /home/eric/anaconda3/envs/tf-gpu/lib/python3.6/site-packages/absl/flags/__init__.py\n",
      "\n",
      "--flagfile: Insert flag definitions from the given file into the command line.\n",
      "  (default: '')\n",
      "--undefok: comma-separated list of flag names that it is okay to specify on the\n",
      "  command line even if the program does not define a flag with that name.\n",
      "  IMPORTANT: flags in this list that have arguments MUST use the --flag=value\n",
      "  format.\n",
      "  (default: '')\n"
     ]
    }
   ],
   "source": [
    "import tensorflow as tf\n",
    "print(\"tf version: \",tf.__version__e)\n",
    "print(\"tf file: \",tf.__file__)\n",
    "print(\"\")\n",
    "\n",
    "print(\"tf.app package: \", tf.app.__package__)\n",
    "print(\"tf.app file: \", tf.app.__file__)\n",
    "print(\"\")\n",
    "\n",
    "print(\"tf.flags package: \", tf.flags.__package__)\n",
    "print(\"tf.flags file: \", tf.flags.__file__)\n",
    "print(\"\")\n",
    "\n",
    "import absl.flags as mf\n",
    "print(\"absl.flags package: \", mf.__package__)\n",
    "print(\"absl.flags file: \", mf.__file__)\n",
    "print(\"\")\n",
    "\n",
    "# flags.py 一共有125行\n",
    "\n",
    "FLAGS = tf.flags.FLAGS\n",
    "print(FLAGS)"
   ]
  },
  {
   "cell_type": "markdown",
   "metadata": {},
   "source": [
    "#因为我们包装absl.flags定义函数，所以需要声明这个模块\n",
    "\n",
    "#不影响密钥标志。\n",
    "\n",
    "“包装absl.flags的define函数，以便tf.flags接受旧名称。\n",
    "\n",
    "区别是 tf.flags.FLAGS隐式解析带有sys.argv的标志\n",
    "\n",
    "当在显式解析之前访问flags时，absl.flags.FLAGS会引发异常。\n",
    "\n",
    "调用absl.flags 中的 _flag 和 _flagvalues"
   ]
  },
  {
   "cell_type": "code",
   "execution_count": null,
   "metadata": {},
   "outputs": [],
   "source": []
  },
  {
   "cell_type": "markdown",
   "metadata": {},
   "source": [
    "# tf.flags.FLAGS 学习在代码中设置值"
   ]
  },
  {
   "cell_type": "code",
   "execution_count": 1,
   "metadata": {},
   "outputs": [],
   "source": [
    "import tensorflow as tf\n",
    "import six\n",
    "#取上述代码中一部分进行实验\n",
    "tf.flags.DEFINE_integer('num_seqs', 100, 'number of seqs in one batch')\n",
    "tf.flags.DEFINE_integer('num_steps', 100, 'length of one seq')\n",
    "tf.flags.DEFINE_integer('lstm_size', 128, 'size of hidden state of lstm')\n",
    "# notebook\n",
    "tf.flags.DEFINE_string('f', '', 'kernel')\n"
   ]
  },
  {
   "cell_type": "markdown",
   "metadata": {},
   "source": [
    "实际用这个就可以了"
   ]
  },
  {
   "cell_type": "code",
   "execution_count": 3,
   "metadata": {},
   "outputs": [
    {
     "name": "stdout",
     "output_type": "stream",
     "text": [
      "{'num_seqs': 100, 'num_steps': 100, 'lstm_size': 128, 'f': '/run/user/1000/jupyter/kernel-53e78e6d-6657-4bec-80ba-dffd5b49f39f.json', 'h': False, 'help': False, 'helpfull': False, 'helpshort': False}\n",
      "100\n"
     ]
    }
   ],
   "source": [
    "if __name__ == '__main__':\n",
    "    FLAGS = tf.flags.FLAGS   #FLAGS保存命令行参数的数据\n",
    "    mf = FLAGS.flag_values_dict() # Returns a dictionary that maps flag names to flag values.\n",
    "    print(mf)\n",
    "    print(FLAGS.num_seqs)\n"
   ]
  },
  {
   "cell_type": "code",
   "execution_count": null,
   "metadata": {},
   "outputs": [],
   "source": [
    "想用这样的形式会报错"
   ]
  },
  {
   "cell_type": "code",
   "execution_count": 2,
   "metadata": {},
   "outputs": [
    {
     "name": "stdout",
     "output_type": "stream",
     "text": [
      "{'num_seqs': 100, 'num_steps': 100, 'lstm_size': 128, 'f': '/run/user/1000/jupyter/kernel-53e78e6d-6657-4bec-80ba-dffd5b49f39f.json', 'h': False, 'help': False, 'helpfull': False, 'helpshort': False}\n",
      "100\n"
     ]
    },
    {
     "ename": "SystemExit",
     "evalue": "",
     "output_type": "error",
     "traceback": [
      "An exception has occurred, use %tb to see the full traceback.\n",
      "\u001b[0;31mSystemExit\u001b[0m\n"
     ]
    },
    {
     "name": "stderr",
     "output_type": "stream",
     "text": [
      "/home/eric/anaconda3/envs/tf-gpu/lib/python3.6/site-packages/IPython/core/interactiveshell.py:3299: UserWarning: To exit: use 'exit', 'quit', or Ctrl-D.\n",
      "  warn(\"To exit: use 'exit', 'quit', or Ctrl-D.\", stacklevel=1)\n"
     ]
    }
   ],
   "source": [
    "def main(argv):\n",
    "    FLAGS = tf.flags.FLAGS   #FLAGS保存命令行参数的数据\n",
    "    mf = FLAGS.flag_values_dict() # Returns a dictionary that maps flag names to flag values.\n",
    "    print(mf)\n",
    "    print(FLAGS.num_seqs)\n",
    "    return \n",
    "    \n",
    "if __name__ == '__main__':\n",
    "    tf.app.run()\n"
   ]
  },
  {
   "cell_type": "markdown",
   "metadata": {},
   "source": []
  },
  {
   "cell_type": "markdown",
   "metadata": {},
   "source": [
    "下面这是学习过程，理解flag的内容用法"
   ]
  },
  {
   "cell_type": "code",
   "execution_count": 2,
   "metadata": {
    "scrolled": false
   },
   "outputs": [
    {
     "name": "stdout",
     "output_type": "stream",
     "text": [
      "{'num_seqs': 100, 'num_steps': 100, 'lstm_size': 128, 'f': ''}\n",
      "100\n",
      "\n",
      "Parameters:\n",
      "{'num_seqs': <absl.flags._flag.Flag object at 0x7f2d61f2c080>, 'num_steps': <absl.flags._flag.Flag object at 0x7f2d61f0aef0>, 'lstm_size': <absl.flags._flag.Flag object at 0x7f2cef174518>, 'f': <absl.flags._flag.Flag object at 0x7f2cef174da0>}\n",
      "100\n",
      "100\n",
      "\n",
      "dict_keys(['num_seqs', 'num_steps', 'lstm_size', 'f'])\n",
      "dict_values([<absl.flags._flag.Flag object at 0x7f2d61f2c080>, <absl.flags._flag.Flag object at 0x7f2d61f0aef0>, <absl.flags._flag.Flag object at 0x7f2cef174518>, <absl.flags._flag.Flag object at 0x7f2cef174da0>])\n",
      "<absl.flags._flag.Flag object at 0x7f2d61f2c080>\n",
      "100\n",
      "<absl.flags._flag.Flag object at 0x7f2d61f0aef0>\n",
      "100\n",
      "<absl.flags._flag.Flag object at 0x7f2cef174518>\n",
      "128\n",
      "<absl.flags._flag.Flag object at 0x7f2cef174da0>\n",
      "/run/user/1000/jupyter/kernel-53e78e6d-6657-4bec-80ba-dffd5b49f39f.json\n",
      "\n",
      "<dict_itemiterator object at 0x7f2cef170b38>\n",
      "num_seqs <absl.flags._flag.Flag object at 0x7f2d61f2c080>\n",
      "num_seqs 100\n",
      "num_steps <absl.flags._flag.Flag object at 0x7f2d61f0aef0>\n",
      "num_steps 100\n",
      "lstm_size <absl.flags._flag.Flag object at 0x7f2cef174518>\n",
      "lstm_size 128\n",
      "f <absl.flags._flag.Flag object at 0x7f2cef174da0>\n",
      "f /run/user/1000/jupyter/kernel-53e78e6d-6657-4bec-80ba-dffd5b49f39f.json\n",
      "\n"
     ]
    }
   ],
   "source": [
    "\n",
    "# import tensorflow as tf\n",
    "# #取上述代码中一部分进行实验\n",
    "import six\n",
    "\n",
    "if __name__ == \"__main__\":\n",
    "    #通过print()确定下面内容的功能\n",
    "    FLAGS = tf.flags.FLAGS #FLAGS保存命令行参数的数据\n",
    "    mf = FLAGS.flag_values_dict() # Returns a dictionary that maps flag names to flag values.\n",
    "    print(mf)\n",
    "\n",
    "    print(FLAGS.num_seqs)\n",
    "\n",
    "    print(\"\\nParameters:\")\n",
    "    # FLAGS._flags() 返回一个字典dict\n",
    "    print(FLAGS._flags())\n",
    "    print(FLAGS._flags()['num_seqs'].value)\n",
    "    print( FLAGS._flags().get('num_seqs').value )\n",
    "    print(\"\")\n",
    "    \n",
    "    print(FLAGS._flags().keys())\n",
    "    print(FLAGS._flags().values())\n",
    "    for f in FLAGS._flags().values():\n",
    "        print(f)\n",
    "        print(f.value)\n",
    "    print(\"\")\n",
    "    \n",
    "    print(six.iteritems(FLAGS._flags()))\n",
    "    for name, flag in six.iteritems(FLAGS._flags()):\n",
    "        print(name, flag)\n",
    "        print(name, flag.value)\n",
    "\n",
    "    print(\"\")\n",
    "    \n",
    "#     # tensorflow版本变化使得，后面的值不显示\n",
    "#     for attr, value in sorted(FLAGS.__flags.items()):\n",
    "#         print(\"{}={}\".format(attr.upper(), value))\n",
    "#     print(\"\")\n",
    "\n"
   ]
  },
  {
   "cell_type": "markdown",
   "metadata": {},
   "source": [
    "# tf.flags.FLAGS 学习在命令行参数中修改值"
   ]
  },
  {
   "cell_type": "code",
   "execution_count": 1,
   "metadata": {},
   "outputs": [],
   "source": [
    "import tensorflow as tf\n",
    "import six\n",
    "#取上述代码中一部分进行实验\n",
    "tf.flags.DEFINE_integer('num_seqs', 100, 'number of seqs in one batch')\n",
    "tf.flags.DEFINE_integer('num_steps', 100, 'length of one seq')\n",
    "tf.flags.DEFINE_integer('lstm_size', 128, 'size of hidden state of lstm')\n",
    "# 这句添加 f，kernel 的语句 只在notebook 上运行时添加，shell终端执行不需要 \n",
    "tf.flags.DEFINE_string('f', '', 'kernel')"
   ]
  },
  {
   "cell_type": "markdown",
   "metadata": {},
   "source": [
    "备注：FLAGS._parse_args() 函数的 核心思想在于 设计复杂的过滤规则，对于合适的 执行 flag.parse(value) 修改"
   ]
  },
  {
   "cell_type": "markdown",
   "metadata": {},
   "source": [
    "一个点，在main 函数中，通过 mf = FLAGS.flag_values_dict()获取的结果只显示本次结果，中间命令改变flag后，要再次进行 values_dict() 才能得到新的值"
   ]
  },
  {
   "cell_type": "code",
   "execution_count": 2,
   "metadata": {},
   "outputs": [
    {
     "name": "stdout",
     "output_type": "stream",
     "text": [
      "{'num_seqs': 100, 'num_steps': 100, 'lstm_size': 128, 'f': ''}\n",
      "\n",
      "[]\n",
      "[]\n",
      "{'num_seqs': 200, 'num_steps': 100, 'lstm_size': 128, 'f': ''}\n",
      "\n",
      "[]\n",
      "['num_steps', '345']\n",
      "{'num_seqs': 200, 'num_steps': 100, 'lstm_size': 128, 'f': ''}\n",
      "\n",
      "<absl.flags._flag.Flag object at 0x7feaca013710>\n",
      "\n",
      "{'num_seqs': 200, 'num_steps': 100, 'lstm_size': 128, 'f': ''}\n",
      "200\n"
     ]
    }
   ],
   "source": [
    "if __name__ == '__main__':\n",
    "    FLAGS = tf.flags.FLAGS   #FLAGS保存命令行参数的数据\n",
    "    mf = FLAGS.flag_values_dict() # Returns a dictionary that maps flag names to flag values.\n",
    "    print(mf)\n",
    "    print(\"\")\n",
    "    \n",
    "    # 模仿 命令行参数的形式修改 FLAGS，要加 -- 程序才识别\n",
    "    unknown_flags, unparsed_args = FLAGS._parse_args([\"--num_seqs\",\"200\"],True)\n",
    "    print(unknown_flags)\n",
    "    print(unparsed_args)\n",
    "    mf = FLAGS.flag_values_dict()\n",
    "    print(mf)\n",
    "    print(\"\")\n",
    "    \n",
    "    # 模仿 命令行参数的形式修改 FLAGS，不加 -- ，不执行修改，会存在  unparsed_args 即 未分析参数中\n",
    "    unknown_flags, unparsed_args = FLAGS._parse_args([\"num_steps\",\"345\"],True)\n",
    "    print(unknown_flags)\n",
    "    print(unparsed_args)\n",
    "    mf = FLAGS.flag_values_dict()\n",
    "    print(mf)\n",
    "    print(\"\")\n",
    "    \n",
    "    # 直接通过.parse() 函数， 对某个确定的 参数在字典中的 \"值对象\" 进行修改\n",
    "    flag = FLAGS._flags().get('lstm_size')\n",
    "    print( flag )\n",
    "    # 是不是可以 flag.value=256,应该不可以\n",
    "    flag.parse(\"256\")\n",
    "    print(\"\")\n",
    "    \n",
    "#     mf = FLAGS.flag_values_dict() # Returns a dictionary that maps flag names to flag values.\n",
    "    print(mf)\n",
    "    print(FLAGS.num_seqs)"
   ]
  },
  {
   "cell_type": "code",
   "execution_count": null,
   "metadata": {},
   "outputs": [],
   "source": []
  },
  {
   "cell_type": "code",
   "execution_count": null,
   "metadata": {},
   "outputs": [],
   "source": []
  }
 ],
 "metadata": {
  "kernelspec": {
   "display_name": "tfgpu bin py3.6",
   "language": "python",
   "name": "python3"
  },
  "language_info": {
   "codemirror_mode": {
    "name": "ipython",
    "version": 3
   },
   "file_extension": ".py",
   "mimetype": "text/x-python",
   "name": "python",
   "nbconvert_exporter": "python",
   "pygments_lexer": "ipython3",
   "version": "3.6.7"
  }
 },
 "nbformat": 4,
 "nbformat_minor": 2
}
