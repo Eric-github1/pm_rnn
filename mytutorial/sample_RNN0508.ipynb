{
 "cells": [
  {
   "cell_type": "markdown",
   "metadata": {},
   "source": [
    "# 12.5.4  Char RNN 生成英文"
   ]
  },
  {
   "cell_type": "code",
   "execution_count": 1,
   "metadata": {},
   "outputs": [],
   "source": [
    "import tensorflow as tf\n",
    "from read_utils import TextConverter\n",
    "from model import CharRNN\n",
    "import os\n",
    "\n",
    "FLAGS = tf.flags.FLAGS\n",
    "\n",
    "tf.flags.DEFINE_integer('lstm_size', 128, 'size of hidden state of lstm')\n",
    "tf.flags.DEFINE_integer('num_layers', 2, 'number of lstm layers')\n",
    "tf.flags.DEFINE_boolean('use_embedding', False, 'whether to use embedding')\n",
    "tf.flags.DEFINE_integer('embedding_size', 128, 'size of embedding')\n",
    "tf.flags.DEFINE_string('converter_path', '', 'model/name/converter.pkl')\n",
    "tf.flags.DEFINE_string('checkpoint_path', '', 'checkpoint path')\n",
    "tf.flags.DEFINE_string('start_string', '', 'use this string to start generating')\n",
    "tf.flags.DEFINE_integer('max_length', 30, 'max length to generate')"
   ]
  },
  {
   "cell_type": "markdown",
   "metadata": {},
   "source": [
    "1、生成英文诗"
   ]
  },
  {
   "cell_type": "code",
   "execution_count": 4,
   "metadata": {},
   "outputs": [
    {
     "name": "stdout",
     "output_type": "stream",
     "text": [
      "{'lstm_size': 128, 'num_layers': 2, 'use_embedding': False, 'embedding_size': 128, 'converter_path': 'model/shakespeare/converter.pkl', 'checkpoint_path': 'model/shakespeare/', 'start_string': '', 'max_length': 1000, 'h': False, 'help': False, 'helpfull': False, 'helpshort': False}\n",
      "\n",
      "WARNING:tensorflow:From /home/eric/workspace/pyth_and_dl/pm_rnn/mytutorial/model.py:93: softmax_cross_entropy_with_logits (from tensorflow.python.ops.nn_ops) is deprecated and will be removed in a future version.\n",
      "Instructions for updating:\n",
      "\n",
      "Future major versions of TensorFlow will allow gradients to flow\n",
      "into the labels input on backprop by default.\n",
      "\n",
      "See tf.nn.softmax_cross_entropy_with_logits_v2.\n",
      "\n",
      "INFO:tensorflow:Restoring parameters from model/shakespeare/model-1000\n",
      "Restored from: model/shakespeare/model-1000\n",
      "ptor mise my\n",
      "my, at hass out where shall the mat here the\n",
      "der to so sorden our himself\n",
      "I were these sore,\n",
      "The shall mark the trink the teressel head to the heart\n",
      "Beast a dathing our a werpen her sore, tame,\n",
      "And to arind homes the hand of hing to man all,\n",
      "And hear hast who sean ang andstrasting a shall\n",
      "And, with the sard of so and as the here sharl\n",
      "Be have thou sach and, have to more, and these hear had thy deting\n",
      "Would heart, have stath to sale of all mead\n",
      "To to sere my, shall ment my here to\n",
      "me the heard, thou astorse a dreath, and stard the\n",
      "derer will most we the to make attous well.\n",
      "\n",
      "CESSTENIUS:\n",
      "So sack, and have and the stead of think and there,\n",
      "It and all that a meesion make.\n",
      "\n",
      "BOUSIO:\n",
      "I war him his.\n",
      "\n",
      "SENERIO:\n",
      "What which thoughe more were hall the hand with will he me me\n",
      "the straces to that the hould thou the the dast the densted.\n",
      "\n",
      "CREMUCUS:\n",
      "I where wartands was the soul the terle the she\n",
      "I dears thou when, and a sandit to all.\n",
      "\n",
      "BOUSTUS:\n",
      "Whon where think to hingers of mear the mear\n",
      "\n"
     ]
    },
    {
     "ename": "SystemExit",
     "evalue": "",
     "output_type": "error",
     "traceback": [
      "An exception has occurred, use %tb to see the full traceback.\n",
      "\u001b[0;31mSystemExit\u001b[0m\n"
     ]
    },
    {
     "name": "stderr",
     "output_type": "stream",
     "text": [
      "/home/eric/anaconda3/envs/tf-gpu/lib/python3.6/site-packages/IPython/core/interactiveshell.py:3299: UserWarning: To exit: use 'exit', 'quit', or Ctrl-D.\n",
      "  warn(\"To exit: use 'exit', 'quit', or Ctrl-D.\", stacklevel=1)\n"
     ]
    }
   ],
   "source": [
    "def main(_):\n",
    "    # python 3 中 decode 会报错 AttributeError: 'str' object has no attribute 'decode'\n",
    "    # 解决， 把decode 改为encode\n",
    "    FLAGS.start_string = FLAGS.start_string.encode('utf-8')\n",
    "    converter = TextConverter(filename=FLAGS.converter_path)\n",
    "    if os.path.isdir(FLAGS.checkpoint_path):\n",
    "        FLAGS.checkpoint_path =\\\n",
    "            tf.train.latest_checkpoint(FLAGS.checkpoint_path)\n",
    "\n",
    "    model = CharRNN(converter.vocab_size, sampling=True,\n",
    "                    lstm_size=FLAGS.lstm_size, num_layers=FLAGS.num_layers,\n",
    "                    use_embedding=FLAGS.use_embedding,\n",
    "                    embedding_size=FLAGS.embedding_size)\n",
    "\n",
    "    model.load(FLAGS.checkpoint_path)\n",
    "\n",
    "    start = converter.text_to_arr(FLAGS.start_string)\n",
    "    arr = model.sample(FLAGS.max_length, start, converter.vocab_size)\n",
    "    print(converter.arr_to_text(arr))\n",
    "\n",
    "\n",
    "if __name__ == '__main__':\n",
    "    unknown_flags, unparsed_args = FLAGS._parse_args([\n",
    "        \"--converter_path\",\"model/shakespeare/converter.pkl\",\n",
    "        \"--checkpoint_path\",\"model/shakespeare/\",\n",
    "        \"--max_length\",\"1000\"\n",
    "    ],True)\n",
    "    mf = FLAGS.flag_values_dict()\n",
    "    print(mf)\n",
    "    print(\"\")\n",
    "    tf.app.run()"
   ]
  },
  {
   "cell_type": "code",
   "execution_count": null,
   "metadata": {},
   "outputs": [],
   "source": [
    "# # 对应 python 文件的shell命令语句\n",
    "# python sample.py \\\n",
    "#     --converter_path model/shakespeare/converter.pkl \\\n",
    "#     --checkpoint_path model/shakespeare/ \\\n",
    "#     --max_length 1000\n"
   ]
  },
  {
   "cell_type": "code",
   "execution_count": null,
   "metadata": {},
   "outputs": [],
   "source": []
  },
  {
   "cell_type": "markdown",
   "metadata": {},
   "source": [
    "2、生成中文诗"
   ]
  },
  {
   "cell_type": "code",
   "execution_count": 2,
   "metadata": {},
   "outputs": [
    {
     "name": "stdout",
     "output_type": "stream",
     "text": [
      "{'lstm_size': 128, 'num_layers': 2, 'use_embedding': True, 'embedding_size': 128, 'converter_path': 'model/poetry/converter.pkl', 'checkpoint_path': 'model/poetry/', 'start_string': '', 'max_length': 300}\n",
      "\n",
      "WARNING:tensorflow:From /home/eric/workspace/pyth_and_dl/pm_rnn/mytutorial/model.py:93: softmax_cross_entropy_with_logits (from tensorflow.python.ops.nn_ops) is deprecated and will be removed in a future version.\n",
      "Instructions for updating:\n",
      "\n",
      "Future major versions of TensorFlow will allow gradients to flow\n",
      "into the labels input on backprop by default.\n",
      "\n",
      "See tf.nn.softmax_cross_entropy_with_logits_v2.\n",
      "\n",
      "INFO:tensorflow:Restoring parameters from model/poetry/model-4000\n",
      "Restored from: model/poetry/model-4000\n",
      "锡<unk>声。\n",
      "何时不为处，何处不如归。\n",
      "不见青山客，无言白马归。\n",
      "一声千里远，一处一云生。\n",
      "日暮风初在，风花一不开。\n",
      "春来不知客，何处是何年。\n",
      "山中不可见，山上在春风。\n",
      "日晚无相识，风风满月斜。\n",
      "一人人未尽，何事是相留。\n",
      "不见无人别，还应自有身。\n",
      "不知山水去，一事不知心。\n",
      "一日山山路，青关水路斜。\n",
      "春来春水急，风月夜声深。\n",
      "独有无人去，何曾在故家。\n",
      "山风秋水下，山水月犹深。\n",
      "独有山中去，何年一月长。\n",
      "山中一不见，山上白头寒。\n",
      "一日山前客，新山一夜归。\n",
      "春云一时尽，秋雨夜寒风。\n",
      "白月无人去，何人自不穷。\n",
      "不堪无处事，一事自何言。\n",
      "夜暮云山近，秋来一月寒。\n",
      "何人一不见，何以不知家。\n",
      "山上无人见，人人不自\n"
     ]
    },
    {
     "ename": "SystemExit",
     "evalue": "",
     "output_type": "error",
     "traceback": [
      "An exception has occurred, use %tb to see the full traceback.\n",
      "\u001b[0;31mSystemExit\u001b[0m\n"
     ]
    },
    {
     "name": "stderr",
     "output_type": "stream",
     "text": [
      "/home/eric/anaconda3/envs/tf-gpu/lib/python3.6/site-packages/IPython/core/interactiveshell.py:3299: UserWarning: To exit: use 'exit', 'quit', or Ctrl-D.\n",
      "  warn(\"To exit: use 'exit', 'quit', or Ctrl-D.\", stacklevel=1)\n"
     ]
    }
   ],
   "source": [
    "def main(_):\n",
    "    # python 3 中 decode 会报错 AttributeError: 'str' object has no attribute 'decode'\n",
    "    # 解决， 把decode 改为encode\n",
    "    FLAGS.start_string = FLAGS.start_string.encode('utf-8')\n",
    "    converter = TextConverter(filename=FLAGS.converter_path)\n",
    "    if os.path.isdir(FLAGS.checkpoint_path):\n",
    "        FLAGS.checkpoint_path =\\\n",
    "            tf.train.latest_checkpoint(FLAGS.checkpoint_path)\n",
    "\n",
    "    model = CharRNN(converter.vocab_size, sampling=True,\n",
    "                    lstm_size=FLAGS.lstm_size, num_layers=FLAGS.num_layers,\n",
    "                    use_embedding=FLAGS.use_embedding,\n",
    "                    embedding_size=FLAGS.embedding_size)\n",
    "\n",
    "    model.load(FLAGS.checkpoint_path)\n",
    "\n",
    "    start = converter.text_to_arr(FLAGS.start_string)\n",
    "    arr = model.sample(FLAGS.max_length, start, converter.vocab_size)\n",
    "    print(converter.arr_to_text(arr))\n",
    "\n",
    "\n",
    "if __name__ == '__main__':\n",
    "    unknown_flags, unparsed_args = FLAGS._parse_args([\n",
    "        \"--use_embedding\",\"\",\n",
    "        \"--converter_path\",\"model/poetry/converter.pkl\",\n",
    "        \"--checkpoint_path\",\"model/poetry/\",\n",
    "        \"--max_length\",\"300\"\n",
    "    ],True)\n",
    "    mf = FLAGS.flag_values_dict()\n",
    "    print(mf)\n",
    "    print(\"\")\n",
    "    tf.app.run()"
   ]
  },
  {
   "cell_type": "code",
   "execution_count": null,
   "metadata": {},
   "outputs": [],
   "source": [
    "# # 对应 python 文件的shell命令语句\n",
    "# python sample.py \\\n",
    "#     --use_embedding \\\n",
    "#     --converter_path model/poetry/converter.pkl \\\n",
    "#     --checkpoint_path model/poetry/ \\\n",
    "#     --max_length 300"
   ]
  },
  {
   "cell_type": "code",
   "execution_count": null,
   "metadata": {},
   "outputs": [],
   "source": []
  }
 ],
 "metadata": {
  "kernelspec": {
   "display_name": "tfgpu bin py3.6",
   "language": "python",
   "name": "python3"
  },
  "language_info": {
   "codemirror_mode": {
    "name": "ipython",
    "version": 3
   },
   "file_extension": ".py",
   "mimetype": "text/x-python",
   "name": "python",
   "nbconvert_exporter": "python",
   "pygments_lexer": "ipython3",
   "version": "3.6.7"
  }
 },
 "nbformat": 4,
 "nbformat_minor": 2
}
